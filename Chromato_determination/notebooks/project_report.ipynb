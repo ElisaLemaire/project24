{
 "cells": [
  {
   "cell_type": "markdown",
   "id": "b3528044-bc4f-478f-b311-53378a06c0d1",
   "metadata": {},
   "source": [
    "# Introduction\n",
    "\n",
    "The code helps to find the best chromatography to separate and analyse a mixture based on the physicochemical properties of its components."
   ]
  },
  {
   "cell_type": "markdown",
   "id": "96825d5e-8aee-4bf4-af3e-49145b67adb0",
   "metadata": {},
   "source": [
    "## How It Works\n",
    "\n",
    "1. **Input**: \n",
    "   - User provides the names of the molecules present in the mixture.\n",
    "\n",
    "2. **Data Retrieval**:\n",
    "   - The code searches online databases and web pages to gather key physicochemical properties for each molecule:\n",
    "     - **Boiling temperature (°C)**\n",
    "     - **logP (partition coefficient)**\n",
    "     - **pKa (acid dissociation constants)**\n",
    "     - **Molecular mass**\n",
    "\n",
    "3. **Chromatography Type Decision**:\n",
    "   - **Gas Chromatography (GC)**:\n",
    "     - Chosen if the minimum boiling temperature of the compounds is 300°C or higher.\n",
    "   - **Ion Chromatography (IC)**:\n",
    "     - Selected if the maximum molecular mass is less than or equal to 2000, and the maximum logP is negative, with a proposed pH derived from the pKa values.\n",
    "   - **High-Performance Liquid Chromatography (HPLC)**:\n",
    "     - Applied under various conditions depending on logP values and pKa ranges, with different stationary phases and eluent natures suggested based on the specific properties.\n",
    "   - **Size Exclusion Chromatography (SEC)**:\n",
    "     - Used for compounds with a molecular mass greater than 2000. The eluent nature and exact method depend on the logP values:\n",
    "       - For positive logP values, SEC on gel permeation with an organic solvent is selected.\n",
    "       - Otherwise, SEC on gel filtration with a polyhydroxylated hydrophile polymer in an aqueous solvent is recommended.\n",
    "\n",
    "4. **Output**:\n",
    "   - The code outputs the advisable chromatography type, the nature of the eluent (gas, aqueous, or organic), and the proposed pH for the eluent if applicable."
   ]
  },
  {
   "cell_type": "code",
   "execution_count": null,
   "id": "00ba750f-e6fe-48b5-b853-f37e3d4b0b0f",
   "metadata": {},
   "outputs": [],
   "source": []
  }
 ],
 "metadata": {
  "kernelspec": {
   "display_name": "Python 3 (ipykernel)",
   "language": "python",
   "name": "python3"
  },
  "language_info": {
   "codemirror_mode": {
    "name": "ipython",
    "version": 3
   },
   "file_extension": ".py",
   "mimetype": "text/x-python",
   "name": "python",
   "nbconvert_exporter": "python",
   "pygments_lexer": "ipython3",
   "version": "3.10.13"
  }
 },
 "nbformat": 4,
 "nbformat_minor": 5
}
