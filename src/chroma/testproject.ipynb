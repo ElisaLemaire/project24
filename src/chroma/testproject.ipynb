{
 "cells": [
  {
   "cell_type": "code",
   "execution_count": 5,
   "id": "d3d777f7-14c2-4dad-a0c3-3554cd64628a",
   "metadata": {
    "tags": []
   },
   "outputs": [],
   "source": [
    "import pandas as pd\n",
    "import pandas as pd\n",
    "import tkinter as tk\n",
    "from tkinter import ttk\n",
    "from tkinter import messagebox\n",
    "import pandas as pd\n",
    "from pubchemprops.pubchemprops import get_cid_by_name, get_first_layer_props, get_second_layer_props\n",
    "import urllib.error\n",
    "import urllib.parse\n",
    "from pka_lookup.src import pka_lookup_pubchem\n",
    "import pubchempy as pcp\n",
    "import re\n",
    "import json"
   ]
  },
  {
   "cell_type": "markdown",
   "id": "c0726453-24e6-401c-9f6f-fcee056bc9e6",
   "metadata": {},
   "source": [
    "The interface is created."
   ]
  },
  {
   "cell_type": "code",
   "execution_count": 6,
   "id": "e2a734eb-2ddf-4118-83bc-40b0336d07f3",
   "metadata": {
    "tags": []
   },
   "outputs": [],
   "source": [
    "root = tk.Tk()\n",
    "root.title(\"Determination of Chromatography Type\")\n",
    "\n",
    "\n",
    "entry_widget = tk.Entry(root)\n",
    "label = ttk.Label(root, text=\"pH value:\")"
   ]
  },
  {
   "cell_type": "code",
   "execution_count": 7,
   "id": "21c66a78-b532-4020-8c15-14b152a45af5",
   "metadata": {
    "tags": []
   },
   "outputs": [],
   "source": [
    "def add_entry_widget():\n",
    "    # Add the entry widget to the GUI\n",
    "    #entry_widget.pack()\n",
    "    #label.grid(row=2, column=0, padx=5, pady=5)\n",
    "    #label.pack()\n",
    "    #entry.grid(row=2, column=1, padx=5, pady=5)\n",
    "   \n",
    "    \n",
    "    entry_widget.grid(row=2, column=1, padx=5, pady=5)\n",
    "    label.grid(row=2, column=0, padx=5, pady=5)\n"
   ]
  },
  {
   "cell_type": "code",
   "execution_count": 10,
   "id": "1b227ca9-a7a8-4b67-bfce-47c1cec9d390",
   "metadata": {
    "tags": []
   },
   "outputs": [],
   "source": [
    "#Finds the pKa using the code of Khoi Van.\n",
    "def find_pka(inchikey_string):\n",
    "    text_pka = pka_lookup_pubchem(inchikey_string, \"inchikey\")\n",
    "    if text_pka is not None and 'pKa' in text_pka:\n",
    "        pKa_value = text_pka['pKa']\n",
    "        return pKa_value\n",
    "    else:\n",
    "        return None"
   ]
  },
  {
   "cell_type": "code",
   "execution_count": null,
   "id": "35d91ec9-72e7-4e3b-b83b-078ad4643c71",
   "metadata": {},
   "outputs": [],
   "source": [
    "def find_boiling_point(name):\n",
    "    text_dict = get_second_layer_props(str(name), ['Boiling Point', 'Vapor Pressure'])\n",
    "    \n",
    "    Boiling_point_values = []\n",
    "    #finds all celsius\n",
    "    pattern_celsius = r'([-+]?\\d*\\.\\d+|\\d+) °C'\n",
    "    pattern_F = r'([-+]?\\d*\\.\\d+|\\d+) °F'\n",
    "    \n",
    "    for item in text_dict['Boiling Point']:\n",
    "        # Check if the item has a key 'Value' and 'StringWithMarkup'\n",
    "        if 'Value' in item and 'StringWithMarkup' in item['Value']:\n",
    "            # Access the 'String' key inside the nested dictionary\n",
    "            string_value = item['Value']['StringWithMarkup'][0]['String']\n",
    "            match_celsius = re.search(pattern_celsius, string_value)\n",
    "            if match_celsius:\n",
    "                celsius = float(match_celsius.group(1))\n",
    "                Boiling_point_values.append(celsius)\n",
    "\n",
    "            #Search for Farenheit values, if found: converts farenheit to celsius before adding to the list\n",
    "            match_F = re.search(pattern_F, string_value)\n",
    "            if match_F:\n",
    "                fahrenheit_temp = float(match_F.group(1))\n",
    "                celsius_from_F = round(((fahrenheit_temp - 32) * (5/9)), 2)\n",
    "                Boiling_point_values.append(celsius_from_F)\n",
    "\n",
    "    #get the mean value\n",
    "    Boiling_temp = round((sum(Boiling_point_values) / len(Boiling_point_values)), 2)\n",
    "    #return Boiling_temp"
   ]
  },
  {
   "cell_type": "markdown",
   "id": "f18d45c4-e70a-414d-8204-37891b92752a",
   "metadata": {},
   "source": []
  },
  {
   "cell_type": "code",
   "execution_count": null,
   "id": "2f984bd3-ff2e-4888-bb81-85411292aafa",
   "metadata": {},
   "outputs": [],
   "source": []
  },
  {
   "cell_type": "code",
   "execution_count": null,
   "id": "2abecae3-9193-448c-a624-9304ec66d1af",
   "metadata": {},
   "outputs": [],
   "source": [
    "mixture = []  # List to store entered molecules\n",
    "\n",
    "def add_molecule():\n",
    "    # Extract user inputs from the entry widgets\n",
    "    element = mixture_entry.get()\n",
    "    mixture.append([element])\n",
    "    molecule_listbox.insert(tk.END, element)\n",
    "    "
   ]
  },
  {
   "cell_type": "code",
   "execution_count": null,
   "id": "4b83cc18-eed0-4101-aa60-86e27715adf2",
   "metadata": {},
   "outputs": [],
   "source": [
    "df = pd.DataFrame(data)\n",
    "user_df = pd.DataFrame(mixture, columns=['Mixture', 'Boiling_temp_(°C)', 'logP', 'pKa', 'Molecular_mass'])\n"
   ]
  },
  {
   "cell_type": "code",
   "execution_count": null,
   "id": "be956d00-8490-44a6-9d60-4c37766f293b",
   "metadata": {},
   "outputs": [],
   "source": [
    "mixture_label = ttk.Label(root, text=\"Names of the molecules in the mixture:\")\n",
    "mixture_label.grid(row=0, column=0, padx=5, pady=5)\n",
    "\n",
    "mixture_entry = ttk.Entry(root)\n",
    "mixture_entry.grid(row=0, column=1, padx=5, pady=5)\n",
    "\n",
    "add_button = ttk.Button(root, text=\"Add molecule\", command=lambda: add_molecule())\n",
    "add_button.grid(row=4, column=0, columnspan=2, padx=5, pady=5)\n",
    "\n",
    "molecule_listbox = tk.Listbox(root)\n",
    "molecule_listbox.grid(row=5, column=0, columnspan=2, padx=5, pady=5)\n",
    "\n",
    "\n",
    "calculate_button = ttk.Button(root, text=\"Determine chromatography\", command=lambda: det_chromato(df))\n",
    "calculate_button.grid(row=6, column=0, columnspan=2, padx=5, pady=5)\n"
   ]
  },
  {
   "cell_type": "code",
   "execution_count": 11,
   "id": "94db4c34-48ce-4012-92dd-56cbd2a454fc",
   "metadata": {
    "tags": []
   },
   "outputs": [
    {
     "ename": "NameError",
     "evalue": "name 'df' is not defined",
     "output_type": "error",
     "traceback": [
      "\u001b[0;31m---------------------------------------------------------------------------\u001b[0m",
      "\u001b[0;31mNameError\u001b[0m                                 Traceback (most recent call last)",
      "Cell \u001b[0;32mIn[11], line 107\u001b[0m\n\u001b[1;32m    103\u001b[0m                 proposed_pH \u001b[38;5;241m=\u001b[39m min_pKa \u001b[38;5;241m+\u001b[39m \u001b[38;5;241m2\u001b[39m\n\u001b[1;32m    105\u001b[0m     \u001b[38;5;28;01mreturn\u001b[39;00m Chromato_type, eluent_nature, proposed_pH\n\u001b[0;32m--> 107\u001b[0m Mixture_chromato_type, eluent_nature, proposed_pH \u001b[38;5;241m=\u001b[39m det_chromato(df)\n\u001b[1;32m    111\u001b[0m \u001b[38;5;28;01mif\u001b[39;00m proposed_pH \u001b[38;5;129;01mis\u001b[39;00m \u001b[38;5;129;01mnot\u001b[39;00m \u001b[38;5;28;01mNone\u001b[39;00m:\n\u001b[1;32m    113\u001b[0m     add_entry_widget()\n",
      "\u001b[0;31mNameError\u001b[0m: name 'df' is not defined"
     ]
    }
   ],
   "source": [
    "def get_df_properties():\n",
    "    \n",
    "    user_input = mixture_entry.get()\n",
    "    compound_name = user_input\n",
    "    compound_list = [compound.strip() for compound in compound_name.split(',')]\n",
    "    \n",
    "    compound_properties = []\n",
    "    valid_properties = []\n",
    "    for compound_name in compound_list:\n",
    "        compound_name_encoded = urllib.parse.quote(compound_name.strip())\n",
    "        try: \n",
    "            first_data = get_first_layer_props(compound_name_encoded, ['MolecularFormula', 'MolecularWeight', 'InChI', 'InChIKey', 'IUPACName', 'XLogP'])\n",
    "            compound_info = {}\n",
    "            for prop in ['CID', 'MolecularFormula', 'MolecularWeight', 'InChI', 'InChIKey', 'IUPACName', 'XLogP']:\n",
    "                compound_info[prop] = first_data.get(prop)\n",
    "            #print(first_data)\n",
    "            \n",
    "            #adds pKa value\n",
    "            pka_value = find_pka(first_data['InChIKey'])\n",
    "            if pka_value is not None:\n",
    "                compound_info['pKa'] = pka_value\n",
    "            else:\n",
    "                pass\n",
    "            \n",
    "            #adds boiling point, solubility\n",
    "            compound_info['BoilingPoint'] = find_boiling_point(compound_name_encoded)\n",
    "    \n",
    "            # When every property has been added to compound_info, add to the properties. This makes sure all properties have the right keys\n",
    "            compound_properties.append(compound_info)\n",
    "        \n",
    "        except urllib.error.HTTPError as e:\n",
    "            if e.code == 404:\n",
    "                   messagebox.showerror(\"Error\", f\"{compound_name} not found on PubChem\")\n",
    "            \n",
    "            else:\n",
    "                messagebox.showerror(\"Error\", f\"An error occurred: {e}\")\n",
    "\n",
    "    \n",
    "    for prop in compound_properties:\n",
    "        if isinstance(prop, dict):\n",
    "            valid_properties.append(prop)\n",
    "    df = pd.DataFrame(valid_properties)\n",
    "    # Set the property names from the first dictionary as column headers\n",
    "    if len(valid_properties) > 0:\n",
    "        df = df.reindex(columns=valid_properties[0].keys())\n",
    "\n",
    "    #print(df)\n",
    "    #return(df)\n",
    "\n",
    "def det_chromato(df):\n",
    "    if df['Boiling_temp_(°C)'].min() >= 300:\n",
    "        Chromato_type = 'GC'\n",
    "        eluent_nature = 'gas'\n",
    "        proposed_pH = None\n",
    "    else:\n",
    "        max_molar_mass = df['Molecular_mass'].max()\n",
    "        min_pKa = float('inf')  # Initialize min_pKa with a large value\n",
    "        max_pKa = float('-inf')  # Initialize max_pKa with a small value\n",
    "        for pKa_entry in df['pKa']:\n",
    "            if isinstance(pKa_entry, list):\n",
    "                for pKa_value in pKa_entry:\n",
    "                    min_pKa = min(pKa_value, min_pKa)\n",
    "                    max_pKa = max(pKa_value, max_pKa)\n",
    "            else:\n",
    "                min_pKa = min(pKa_entry, min_pKa)\n",
    "                max_pKa = max(pKa_entry, max_pKa)\n",
    "        \n",
    "        if max_molar_mass <= 2000:\n",
    "            max_logP = df['logP'].max()\n",
    "            min_logP = df['logP'].min()\n",
    "            if max_logP < 0:\n",
    "                proposed_pH = max_pKa + 2\n",
    "                if 3 <= proposed_pH <= 11 and max_pKa + 2 >= proposed_pH:\n",
    "                    Chromato_type = 'IC'\n",
    "                    eluent_nature = 'aqueous'\n",
    "                    proposed_pH = max_pKa + 2\n",
    "                else:\n",
    "                    Chromato_type = 'HPLC'\n",
    "                    eluent_nature = 'organic or hydro-organic'\n",
    "                    proposed_pH = min_pKa + 2\n",
    "            else:\n",
    "                Chromato_type = 'HPLC'\n",
    "                if -2 <= min_logP <= 0:\n",
    "                    eluent_nature = 'organic or hydro-organic'\n",
    "                    if min_logP >= 0:\n",
    "                        Chromato_type += ' on normal stationary phase'\n",
    "                    else:\n",
    "                        Chromato_type += ' on reverse stationary phase using C18 column'\n",
    "                else:\n",
    "                    eluent_nature = 'organic or hydro-organic'\n",
    "                    Chromato_type += ' on normal stationary phase'\n",
    "                proposed_pH = min_pKa + 2\n",
    "        else:\n",
    "            max_logP = df['logP'].max()\n",
    "            min_logP = df['logP'].min()\n",
    "            if max_logP < 0:\n",
    "                Chromato_type = 'HPLC on reverse stationary phase'\n",
    "                eluent_nature = 'organic or hydro-organic'\n",
    "                proposed_pH = min_pKa + 2\n",
    "            else:\n",
    "                Chromato_type = 'SEC on gel filtration'\n",
    "                eluent_nature = 'aqueous'\n",
    "                proposed_pH = min_pKa + 2\n",
    "    \n",
    "    return Chromato_type, eluent_nature, proposed_pH\n",
    "\n",
    "Mixture_chromato_type, eluent_nature, proposed_pH = det_chromato(df)\n",
    "\n",
    "\n",
    "\n",
    "if proposed_pH is not None:\n",
    "        \n",
    "    add_entry_widget()\n",
    "    \n",
    "\n",
    "else:\n",
    "    pass\n",
    "\n"
   ]
  },
  {
   "cell_type": "code",
   "execution_count": null,
   "id": "054fc5a3-3d0a-4ccf-9aef-33847498b834",
   "metadata": {},
   "outputs": [],
   "source": [
    "\n",
    "result1_label = ttk.Label(root, text=\"\")\n",
    "result1_label.grid(row=7, column=0, columnspan=2, padx=5, pady=5)\n",
    "\n",
    "result1_label.config(text=f\"The advisable chromatography type is: {Mixture_chromato_type}\")\n",
    "\n",
    "\n",
    "result2_label = ttk.Label(root, text=\"\")\n",
    "result2_label.grid(row=8, column=0, columnspan=2, padx=5, pady=5)\n",
    "\n",
    "result2_label.config(text=f\"Eluent nature: {eluent_nature}\")\n",
    "\n"
   ]
  },
  {
   "cell_type": "code",
   "execution_count": null,
   "id": "2351ce4d-ee49-48f9-855e-7acb7d606bbc",
   "metadata": {},
   "outputs": [],
   "source": [
    "\n",
    "if proposed_pH is not None:\n",
    "    result3_label = ttk.Label(root, text=\"\")\n",
    "    result3_label.grid(row=9, column=0, columnspan=2, padx=5, pady=5)\n",
    "\n",
    "    result3_label.config(text=f\"Proposed pH for the eluent: {proposed_pH}\")\n",
    "\n",
    "    \n",
    "root.mainloop()"
   ]
  }
 ],
 "metadata": {
  "kernelspec": {
   "display_name": "Python 3 (ipykernel)",
   "language": "python",
   "name": "python3"
  },
  "language_info": {
   "codemirror_mode": {
    "name": "ipython",
    "version": 3
   },
   "file_extension": ".py",
   "mimetype": "text/x-python",
   "name": "python",
   "nbconvert_exporter": "python",
   "pygments_lexer": "ipython3",
   "version": "3.11.5"
  }
 },
 "nbformat": 4,
 "nbformat_minor": 5
}
