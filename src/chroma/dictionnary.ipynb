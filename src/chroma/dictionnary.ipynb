{
 "cells": [
  {
   "cell_type": "code",
   "execution_count": null,
   "id": "2e75f888-1816-4593-8059-f288a8cdfec9",
   "metadata": {},
   "outputs": [],
   "source": [
    "\n",
    "molecules = {\n",
    "    \"water\": {\n",
    "        \"boiling_temp\": 100,\n",
    "        \"LogP\": 0.52,\n",
    "        \"pKa\": 15.7,\n",
    "        \"is_ionizable\": \"neutre\"\n",
    "    },\n",
    "    \"ethanol\": {\n",
    "        \"boiling_temp\": 78.37,\n",
    "        \"LogP\": -0.24,\n",
    "        \"pKa\": 15.9,\n",
    "        \"is_ionizable\": \"neutre\"\n",
    "    },\n",
    "   \"acetic acid\": { \n",
    "       \"boiling_temp\": 118.1,\n",
    "        \"LogP\": 0.17,\n",
    "        \"pKa\": 4.76,\n",
    "        \"is_ionizable\": \"neutre\"\n",
    "    },\n",
    "     \"acetic acid\": { \n",
    "       \"boiling_temp\": 118.1,\n",
    "        \"LogP\": 0.17,\n",
    "        \"pKa\": 4.76,\n",
    "        \"is_ionizable\": \"neutre\"\n",
    "    },\n",
    "}\n"
   ]
  }
 ],
 "metadata": {
  "kernelspec": {
   "display_name": "Python 3 (ipykernel)",
   "language": "python",
   "name": "python3"
  },
  "language_info": {
   "codemirror_mode": {
    "name": "ipython",
    "version": 3
   },
   "file_extension": ".py",
   "mimetype": "text/x-python",
   "name": "python",
   "nbconvert_exporter": "python",
   "pygments_lexer": "ipython3",
   "version": "3.11.5"
  }
 },
 "nbformat": 4,
 "nbformat_minor": 5
}
