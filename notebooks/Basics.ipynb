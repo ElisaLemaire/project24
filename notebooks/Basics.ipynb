{
 "cells": [
  {
   "cell_type": "code",
   "execution_count": 1,
   "id": "f002e217-4e4f-42fc-8d3d-206a82e95338",
   "metadata": {},
   "outputs": [
    {
     "ename": "TypeError",
     "evalue": "main() missing 8 required positional arguments: 'boiling_temp', 'solubility', 'pKa', 'p_star', 'Boiling_temp_threshold', 'solubility_threshold', 'pKa_threshold', and 'p_star_threshold'",
     "output_type": "error",
     "traceback": [
      "\u001b[1;31m---------------------------------------------------------------------------\u001b[0m",
      "\u001b[1;31mTypeError\u001b[0m                                 Traceback (most recent call last)",
      "Cell \u001b[1;32mIn[1], line 61\u001b[0m\n\u001b[0;32m     57\u001b[0m             \u001b[38;5;28;01mpass\u001b[39;00m\n\u001b[0;32m     60\u001b[0m \u001b[38;5;28;01mif\u001b[39;00m \u001b[38;5;18m__name__\u001b[39m \u001b[38;5;241m==\u001b[39m \u001b[38;5;124m\"\u001b[39m\u001b[38;5;124m__main__\u001b[39m\u001b[38;5;124m\"\u001b[39m:\n\u001b[1;32m---> 61\u001b[0m     \u001b[43mmain\u001b[49m\u001b[43m(\u001b[49m\u001b[43m)\u001b[49m\n",
      "\u001b[1;31mTypeError\u001b[0m: main() missing 8 required positional arguments: 'boiling_temp', 'solubility', 'pKa', 'p_star', 'Boiling_temp_threshold', 'solubility_threshold', 'pKa_threshold', and 'p_star_threshold'"
     ]
    }
   ],
   "source": [
    "import os\n",
    "import pandas as pd\n",
    "import pubchempy as pcp\n",
    "from pubchempy import get_compounds\n",
    "from pka_lookup import pka_lookup_pubchem\n",
    "from pubchemprops.pubchemprops import get_cid_by_name, get_first_layer_props, get_second_layer_props\n",
    "\n",
    "path = os.path.join('your', 'directory', 'file.txt')\n",
    "\n",
    "\"\"\"\n",
    "The Pubchempy python package here is used to have easy access to PubChem library. \n",
    "We can retrieve the information on PubChem for molecules which the user demands the chromatography separation.\n",
    "If the name of the compound matches with a PubChem page name, the properrties are retrieved and placed in the dictionnary properties.\n",
    "\"\"\"\n",
    "\n",
    "def get_compound_info(compound_name):\n",
    "    compound = pcp.get_compounds(compound_name, 'name')\n",
    "    if compound:\n",
    "        compound = compound[0]\n",
    "        properties = compound.to_dict(properties=['IUPACName', 'MolecularFormula', 'MolecularWeight', 'IsomericSMILES', 'XLogP', 'BoilingPt', 'Solubility', 'SaturatedVaporPressure', 'pKa', 'ExactMass', 'Fingerprint3D'])\n",
    "        return properties\n",
    "    else:\n",
    "        print(f\"Compound '{compound_name}' not found on PubChem.\")\n",
    "        return None\n",
    "\n",
    "#Get the pKa value of a compound\n",
    "def get_pka():\n",
    "    \n",
    "    \n",
    "    if 'pKa' in text_pka:\n",
    "    pKa_value = text_pka['pKa']\n",
    "print(pKa_value)\n",
    "\n",
    "\"\"\"THe df_info function gets an input of the user and uses the get_compound_info to write it in a df if possible\"\"\"\n",
    "\n",
    "def df_info():\n",
    "    compound_name = input(\"Enter the name of the compound like this (water, ethanol, methanol): \")\n",
    "    compounds = [\"water\", \"ethanol\", \"methanol\"]\n",
    "\n",
    "    df = pd.DataFrame()\n",
    "\n",
    "    # Tries to get info from each compound\n",
    "    for compound_name in compound_names:\n",
    "        compound_info = get_compound_info(compound_name.strip())\n",
    "        if compound_info:\n",
    "            df = df.append(compound_info, ignore_index=True)\n",
    "        else:\n",
    "            print(f\"Could not retrieve information for the compound '{compound_name.strip()}'.\")\n",
    "    print(df)\n",
    "\n",
    "Boiling_temp_threshold = 300\n",
    "\n",
    "\n",
    "def df_from_name(compound):\n",
    "    easy_properties = get_first_layer_props('acetone', ['MolecularWeight', 'IUPACName', 'CanonicalSMILES', 'InChI'])\n",
    "\n",
    "\n",
    "if __name__ == \"__main__\":\n",
    "    main()"
   ]
  },
  {
   "cell_type": "code",
   "execution_count": null,
   "id": "9465ff75-0388-4f11-94d7-135264a5f91d",
   "metadata": {},
   "outputs": [],
   "source": [
    "\"\"\"\n",
    "This following notebook is the builind block which is used:\n",
    "\"\"\""
   ]
  },
  {
   "cell_type": "code",
   "execution_count": 28,
   "id": "1c722a59-1f4a-4b92-b05d-afa072bcb161",
   "metadata": {},
   "outputs": [
    {
     "name": "stdin",
     "output_type": "stream",
     "text": [
      "Enter the name of the compound like this: water, ethanol, methanol = L-phenylalanine, Malonic acid\n"
     ]
    },
    {
     "name": "stdout",
     "output_type": "stream",
     "text": [
      "    CID MolecularFormula MolecularWeight  \\\n",
      "0  6140         C9H11NO2          165.19   \n",
      "1   867           C3H4O4          104.06   \n",
      "\n",
      "                                               InChI  \\\n",
      "0  InChI=1S/C9H11NO2/c10-8(9(11)12)6-7-4-2-1-3-5-...   \n",
      "1  InChI=1S/C3H4O4/c4-2(5)1-3(6)7/h1H2,(H,4,5)(H,...   \n",
      "\n",
      "                      InChIKey                            IUPACName  XLogP  \\\n",
      "0  COLNVLDHVKWLRT-QMMMGPOBSA-N  (2S)-2-amino-3-phenylpropanoic acid   -1.5   \n",
      "1  OFOBLEOULBTSOW-UHFFFAOYSA-N                    propanedioic acid   -0.8   \n",
      "\n",
      "               pKa  BoilingPoint  \n",
      "0              2.2         295.0  \n",
      "1  2.85 (at 25 °C)         140.0  \n"
     ]
    }
   ],
   "source": [
    "import pandas as pd\n",
    "from pubchemprops.pubchemprops import get_cid_by_name, get_first_layer_props, get_second_layer_props\n",
    "import urllib.error\n",
    "import urllib.parse\n",
    "from pka_lookup import pka_lookup_pubchem\n",
    "import pubchempy as pcp\n",
    "import re\n",
    "import json\n",
    "\n",
    "#Finds the pKa using the code of Khoi Van.\n",
    "def find_pka(inchikey_string):\n",
    "    text_pka = pka_lookup_pubchem(inchikey_string, \"inchikey\")\n",
    "    if text_pka is not None and 'pKa' in text_pka:\n",
    "        pKa_value = text_pka['pKa']\n",
    "        return pKa_value\n",
    "    else:\n",
    "        return None\n",
    "\n",
    "def find_boiling_point(name):\n",
    "    text_dict = get_second_layer_props(str(name), ['Boiling Point', 'Vapor Pressure'])\n",
    "    \n",
    "    Boiling_point_values = []\n",
    "    #finds all celsius\n",
    "    pattern_celsius = r'([-+]?\\d*\\.\\d+|\\d+) °C'\n",
    "    pattern_F = r'([-+]?\\d*\\.\\d+|\\d+) °F'\n",
    "    \n",
    "    for item in text_dict['Boiling Point']:\n",
    "        # Check if the item has a key 'Value' and 'StringWithMarkup'\n",
    "        if 'Value' in item and 'StringWithMarkup' in item['Value']:\n",
    "            # Access the 'String' key inside the nested dictionary\n",
    "            string_value = item['Value']['StringWithMarkup'][0]['String']\n",
    "            match_celsius = re.search(pattern_celsius, string_value)\n",
    "            if match_celsius:\n",
    "                celsius = float(match_celsius.group(1))\n",
    "                Boiling_point_values.append(celsius)\n",
    "\n",
    "            #Search for Farenheit values, if found: converts farenheit to celsius before adding to the list\n",
    "            match_F = re.search(pattern_F, string_value)\n",
    "            if match_F:\n",
    "                fahrenheit_temp = float(match_F.group(1))\n",
    "                celsius_from_F = round(((fahrenheit_temp - 32) * (5/9)), 2)\n",
    "                Boiling_point_values.append(celsius_from_F)\n",
    "\n",
    "    #get the mean value\n",
    "    Boiling_temp = round((sum(Boiling_point_values) / len(Boiling_point_values)), 2)\n",
    "    return Boiling_temp\n",
    "\n",
    "\"\"\"\n",
    "This code takes as input a list of compound written like: acetone, water. The code allows spaces, wrong names and unknown pubchem names.\n",
    "Then it iterates through each of them to find if they exist on pubchem, and if they do,\n",
    "then 'CID', 'MolecularFormula', 'MolecularWeight', 'InChI', 'InChIKey', 'IUPACName', 'XLogP', 'pKa',  and 'BoilingPoint' is added into a list and then a data frame.\n",
    "The code takes time as find_pka(inchikey_string) and find_boiling_point(name) request URL to find the string on the Pubchem page, then extract it using regex. \n",
    "The boiling point is a mean of all the values (references) found.\n",
    "\"\"\"\n",
    "\n",
    "def get_df_properties():\n",
    "    compound_name = input(\"Enter the name of the compound like this: water, ethanol, methanol =\")\n",
    "    compound_list = [compound.strip() for compound in compound_name.split(',')]\n",
    "    \n",
    "    compound_properties = []\n",
    "    valid_properties = []\n",
    "    for compound_name in compound_list:\n",
    "        compound_name_encoded = urllib.parse.quote(compound_name.strip())\n",
    "        try: \n",
    "            first_data = get_first_layer_props(compound_name_encoded, ['MolecularFormula', 'MolecularWeight', 'InChI', 'InChIKey', 'IUPACName', 'XLogP'])\n",
    "            compound_info = {}\n",
    "            for prop in ['CID', 'MolecularFormula', 'MolecularWeight', 'InChI', 'InChIKey', 'IUPACName', 'XLogP']:\n",
    "                compound_info[prop] = first_data.get(prop)\n",
    "            #print(first_data)\n",
    "            \n",
    "            #adds pKa value\n",
    "            pka_value = find_pka(first_data['InChIKey'])\n",
    "            if pka_value is not None:\n",
    "                compound_info['pKa'] = pka_value\n",
    "            else:\n",
    "                pass\n",
    "            \n",
    "            #adds boiling point, solubility\n",
    "            compound_info['BoilingPoint'] = find_boiling_point(compound_name_encoded)\n",
    "    \n",
    "            # When every property has been added to compound_info, add to the properties. This makes sure all properties have the right keys\n",
    "            compound_properties.append(compound_info)\n",
    "        \n",
    "        except urllib.error.HTTPError as e:\n",
    "            if e.code == 404:\n",
    "                print(f'{compound_name} not found on PubChem')\n",
    "            else:\n",
    "                print(f'An error occurred: {e}')\n",
    "    \n",
    "    for prop in compound_properties:\n",
    "        if isinstance(prop, dict):\n",
    "            valid_properties.append(prop)\n",
    "    df = pd.DataFrame(valid_properties)\n",
    "    # Set the property names from the first dictionary as column headers\n",
    "    if len(valid_properties) > 0:\n",
    "        df = df.reindex(columns=valid_properties[0].keys())\n",
    "\n",
    "    #print(df)\n",
    "    return(df)"
   ]
  },
  {
   "cell_type": "code",
   "execution_count": 28,
   "id": "db3501f6-d135-4086-9535-d7df33c5e4df",
   "metadata": {},
   "outputs": [
    {
     "name": "stdout",
     "output_type": "stream",
     "text": [
      "all is good\n"
     ]
    }
   ],
   "source": [
    "from pubchemprops.pubchemprops import get_cid_by_name, get_first_layer_props, get_second_layer_props\n",
    "import urllib.error\n",
    "\n",
    "def df_from_name(compound):\n",
    "    \n",
    "    try: \n",
    "        1st_datas = get_first_layer_props(compound, ['MolecularFormula', 'MolecularWeight', 'InChI', 'InChIKey', 'IUPACName', 'XLogP'])\n",
    "        \n",
    "    except urllib.error.HTTPError as e:\n",
    "        if e.code == 404:\n",
    "            print(f'{compound} not found on PubChem')\n",
    "        else:\n",
    "            print(f'An error occurred: {e}')\n",
    "\n",
    "\n",
    "\n",
    "    \n",
    "df_from_name('water')"
   ]
  },
  {
   "cell_type": "code",
   "execution_count": 14,
   "id": "b7c9a2be-0989-4f2b-9e97-a1dd5dec5cfc",
   "metadata": {},
   "outputs": [
    {
     "ename": "AttributeError",
     "evalue": "'Compound' object has no attribute 'XLogP'",
     "output_type": "error",
     "traceback": [
      "\u001b[1;31m---------------------------------------------------------------------------\u001b[0m",
      "\u001b[1;31mAttributeError\u001b[0m                            Traceback (most recent call last)",
      "Cell \u001b[1;32mIn[14], line 11\u001b[0m\n\u001b[0;32m      8\u001b[0m         \u001b[38;5;28mprint\u001b[39m(\u001b[38;5;124mf\u001b[39m\u001b[38;5;124m\"\u001b[39m\u001b[38;5;124mCompound \u001b[39m\u001b[38;5;124m'\u001b[39m\u001b[38;5;132;01m{\u001b[39;00mcompound_name\u001b[38;5;132;01m}\u001b[39;00m\u001b[38;5;124m'\u001b[39m\u001b[38;5;124m not found on PubChem.\u001b[39m\u001b[38;5;124m\"\u001b[39m)\n\u001b[0;32m      9\u001b[0m         \u001b[38;5;28;01mreturn\u001b[39;00m \u001b[38;5;28;01mNone\u001b[39;00m\n\u001b[1;32m---> 11\u001b[0m \u001b[43minfo_from_name\u001b[49m\u001b[43m(\u001b[49m\u001b[38;5;124;43m'\u001b[39;49m\u001b[38;5;124;43mmethanol\u001b[39;49m\u001b[38;5;124;43m'\u001b[39;49m\u001b[43m)\u001b[49m\n",
      "Cell \u001b[1;32mIn[14], line 5\u001b[0m, in \u001b[0;36minfo_from_name\u001b[1;34m(compound_name)\u001b[0m\n\u001b[0;32m      3\u001b[0m \u001b[38;5;28;01mif\u001b[39;00m compound:\n\u001b[0;32m      4\u001b[0m     compound \u001b[38;5;241m=\u001b[39m compound[\u001b[38;5;241m0\u001b[39m]\n\u001b[1;32m----> 5\u001b[0m     properties \u001b[38;5;241m=\u001b[39m \u001b[43mcompound\u001b[49m\u001b[38;5;241;43m.\u001b[39;49m\u001b[43mto_dict\u001b[49m\u001b[43m(\u001b[49m\u001b[43mproperties\u001b[49m\u001b[38;5;241;43m=\u001b[39;49m\u001b[43m[\u001b[49m\u001b[38;5;124;43m'\u001b[39;49m\u001b[38;5;124;43mXLogP\u001b[39;49m\u001b[38;5;124;43m'\u001b[39;49m\u001b[43m,\u001b[49m\u001b[43m \u001b[49m\u001b[38;5;124;43m'\u001b[39;49m\u001b[38;5;124;43mBoilingPt\u001b[39;49m\u001b[38;5;124;43m'\u001b[39;49m\u001b[43m,\u001b[49m\u001b[43m \u001b[49m\u001b[38;5;124;43m'\u001b[39;49m\u001b[38;5;124;43mSolubility\u001b[39;49m\u001b[38;5;124;43m'\u001b[39;49m\u001b[43m,\u001b[49m\u001b[43m \u001b[49m\u001b[38;5;124;43m'\u001b[39;49m\u001b[38;5;124;43mSaturatedVaporPressure\u001b[39;49m\u001b[38;5;124;43m'\u001b[39;49m\u001b[43m,\u001b[49m\u001b[43m \u001b[49m\u001b[38;5;124;43m'\u001b[39;49m\u001b[38;5;124;43mpKa\u001b[39;49m\u001b[38;5;124;43m'\u001b[39;49m\u001b[43m,\u001b[49m\u001b[43m \u001b[49m\u001b[38;5;124;43m'\u001b[39;49m\u001b[38;5;124;43mExactMass\u001b[39;49m\u001b[38;5;124;43m'\u001b[39;49m\u001b[43m,\u001b[49m\u001b[43m \u001b[49m\u001b[38;5;124;43m'\u001b[39;49m\u001b[38;5;124;43mFingerprint3D\u001b[39;49m\u001b[38;5;124;43m'\u001b[39;49m\u001b[43m]\u001b[49m\u001b[43m)\u001b[49m\n\u001b[0;32m      6\u001b[0m     \u001b[38;5;28;01mreturn\u001b[39;00m properties\n\u001b[0;32m      7\u001b[0m \u001b[38;5;28;01melse\u001b[39;00m:\n",
      "File \u001b[1;32m~\\anaconda3\\envs\\project24\\lib\\site-packages\\pubchempy.py:744\u001b[0m, in \u001b[0;36mCompound.to_dict\u001b[1;34m(self, properties)\u001b[0m\n\u001b[0;32m    742\u001b[0m     skip \u001b[38;5;241m=\u001b[39m {\u001b[38;5;124m'\u001b[39m\u001b[38;5;124maids\u001b[39m\u001b[38;5;124m'\u001b[39m, \u001b[38;5;124m'\u001b[39m\u001b[38;5;124msids\u001b[39m\u001b[38;5;124m'\u001b[39m, \u001b[38;5;124m'\u001b[39m\u001b[38;5;124msynonyms\u001b[39m\u001b[38;5;124m'\u001b[39m}\n\u001b[0;32m    743\u001b[0m     properties \u001b[38;5;241m=\u001b[39m [p \u001b[38;5;28;01mfor\u001b[39;00m p \u001b[38;5;129;01min\u001b[39;00m \u001b[38;5;28mdir\u001b[39m(Compound) \u001b[38;5;28;01mif\u001b[39;00m \u001b[38;5;28misinstance\u001b[39m(\u001b[38;5;28mgetattr\u001b[39m(Compound, p), \u001b[38;5;28mproperty\u001b[39m) \u001b[38;5;129;01mand\u001b[39;00m p \u001b[38;5;129;01mnot\u001b[39;00m \u001b[38;5;129;01min\u001b[39;00m skip]\n\u001b[1;32m--> 744\u001b[0m \u001b[38;5;28;01mreturn\u001b[39;00m {p: [i\u001b[38;5;241m.\u001b[39mto_dict() \u001b[38;5;28;01mfor\u001b[39;00m i \u001b[38;5;129;01min\u001b[39;00m \u001b[38;5;28mgetattr\u001b[39m(\u001b[38;5;28mself\u001b[39m, p)] \u001b[38;5;28;01mif\u001b[39;00m p \u001b[38;5;129;01min\u001b[39;00m {\u001b[38;5;124m'\u001b[39m\u001b[38;5;124matoms\u001b[39m\u001b[38;5;124m'\u001b[39m, \u001b[38;5;124m'\u001b[39m\u001b[38;5;124mbonds\u001b[39m\u001b[38;5;124m'\u001b[39m} \u001b[38;5;28;01melse\u001b[39;00m \u001b[38;5;28mgetattr\u001b[39m(\u001b[38;5;28mself\u001b[39m, p) \u001b[38;5;28;01mfor\u001b[39;00m p \u001b[38;5;129;01min\u001b[39;00m properties}\n",
      "File \u001b[1;32m~\\anaconda3\\envs\\project24\\lib\\site-packages\\pubchempy.py:744\u001b[0m, in \u001b[0;36m<dictcomp>\u001b[1;34m(.0)\u001b[0m\n\u001b[0;32m    742\u001b[0m     skip \u001b[38;5;241m=\u001b[39m {\u001b[38;5;124m'\u001b[39m\u001b[38;5;124maids\u001b[39m\u001b[38;5;124m'\u001b[39m, \u001b[38;5;124m'\u001b[39m\u001b[38;5;124msids\u001b[39m\u001b[38;5;124m'\u001b[39m, \u001b[38;5;124m'\u001b[39m\u001b[38;5;124msynonyms\u001b[39m\u001b[38;5;124m'\u001b[39m}\n\u001b[0;32m    743\u001b[0m     properties \u001b[38;5;241m=\u001b[39m [p \u001b[38;5;28;01mfor\u001b[39;00m p \u001b[38;5;129;01min\u001b[39;00m \u001b[38;5;28mdir\u001b[39m(Compound) \u001b[38;5;28;01mif\u001b[39;00m \u001b[38;5;28misinstance\u001b[39m(\u001b[38;5;28mgetattr\u001b[39m(Compound, p), \u001b[38;5;28mproperty\u001b[39m) \u001b[38;5;129;01mand\u001b[39;00m p \u001b[38;5;129;01mnot\u001b[39;00m \u001b[38;5;129;01min\u001b[39;00m skip]\n\u001b[1;32m--> 744\u001b[0m \u001b[38;5;28;01mreturn\u001b[39;00m {p: [i\u001b[38;5;241m.\u001b[39mto_dict() \u001b[38;5;28;01mfor\u001b[39;00m i \u001b[38;5;129;01min\u001b[39;00m \u001b[38;5;28mgetattr\u001b[39m(\u001b[38;5;28mself\u001b[39m, p)] \u001b[38;5;28;01mif\u001b[39;00m p \u001b[38;5;129;01min\u001b[39;00m {\u001b[38;5;124m'\u001b[39m\u001b[38;5;124matoms\u001b[39m\u001b[38;5;124m'\u001b[39m, \u001b[38;5;124m'\u001b[39m\u001b[38;5;124mbonds\u001b[39m\u001b[38;5;124m'\u001b[39m} \u001b[38;5;28;01melse\u001b[39;00m \u001b[38;5;28;43mgetattr\u001b[39;49m\u001b[43m(\u001b[49m\u001b[38;5;28;43mself\u001b[39;49m\u001b[43m,\u001b[49m\u001b[43m \u001b[49m\u001b[43mp\u001b[49m\u001b[43m)\u001b[49m \u001b[38;5;28;01mfor\u001b[39;00m p \u001b[38;5;129;01min\u001b[39;00m properties}\n",
      "\u001b[1;31mAttributeError\u001b[0m: 'Compound' object has no attribute 'XLogP'"
     ]
    }
   ],
   "source": [
    "from pubchempy import get_compounds\n",
    "\n",
    "def info_from_name(compound_name):\n",
    "    compound = pcp.get_compounds(compound_name, 'name')\n",
    "    if compound:\n",
    "        compound = compound[0]\n",
    "        properties = compound.to_dict(properties=['XLogP', 'BoilingPt', 'Solubility', 'SaturatedVaporPressure', 'pKa', 'ExactMass', 'Fingerprint3D'])\n",
    "        return properties\n",
    "    else:\n",
    "        print(f\"Compound '{compound_name}' not found on PubChem.\")\n",
    "        return None\n",
    "\n",
    "\n",
    "print .xlogp"
   ]
  },
  {
   "cell_type": "code",
   "execution_count": null,
   "id": "53374067-49e4-42e9-a34b-1d8a79c260d8",
   "metadata": {},
   "outputs": [],
   "source": [
    "pcp.get_compounds('C1=CC2=C(C3=C(C=CC=N3)C=C2)N=C1', 'smiles')"
   ]
  },
  {
   "cell_type": "code",
   "execution_count": 4,
   "id": "258ab54b-0f7c-45ab-ad19-4be2e4b33bcd",
   "metadata": {},
   "outputs": [
    {
     "name": "stdout",
     "output_type": "stream",
     "text": [
      "    IsomericSMILES  XLogP\n",
      "CID                      \n",
      "887             CO   -0.5\n"
     ]
    }
   ],
   "source": [
    "import pubchempy as pcp\n",
    "from pubchempy import Compound, get_compounds\n",
    "\n",
    "df1 = pcp.get_compounds('C20H41Br', 'formula', as_dataframe=True)\n",
    "df2 = pcp.get_substances([1, 2, 3, 4], as_dataframe=True)\n",
    "df3 = pcp.get_properties(['isomeric_smiles', 'xlogp'], 'methanol', 'name', as_dataframe=True)\n",
    "print(df3)"
   ]
  },
  {
   "cell_type": "code",
   "execution_count": 11,
   "id": "5f2d324f-78f0-43e4-9158-a810c7b7cf46",
   "metadata": {},
   "outputs": [
    {
     "name": "stdout",
     "output_type": "stream",
     "text": [
      "{'Boiling Point': [{'ReferenceNumber': 2, 'Reference': ['National Toxicology Program, Institute of Environmental Health Sciences, National Institutes of Health (NTP). 1992. National Toxicology Program Chemical Repository Database. Research Triangle Park, North Carolina.'], 'Value': {'StringWithMarkup': [{'String': '133 °F at 760 mmHg (NTP, 1992)'}]}}, {'ReferenceNumber': 39, 'Description': 'PEER REVIEWED', 'Reference': ['Haynes, W.M. (ed.). CRC Handbook of Chemistry and Physics. 95th Edition. CRC Press LLC, Boca Raton: FL 2014-2015, p. 3-4'], 'Value': {'StringWithMarkup': [{'String': '56.08 °C'}]}}, {'ReferenceNumber': 40, 'Reference': ['The Good Scents Company Information System'], 'Value': {'StringWithMarkup': [{'String': '56.00 to 57.00 °C. @ 760.00 mm Hg'}]}}, {'ReferenceNumber': 55, 'Value': {'StringWithMarkup': [{'String': '56 °C'}]}}, {'ReferenceNumber': 101, 'Value': {'StringWithMarkup': [{'String': '133 °F'}]}}, {'ReferenceNumber': 139, 'Value': {'StringWithMarkup': [{'String': '133 °F'}]}}], 'Vapor Pressure': [{'ReferenceNumber': 2, 'Reference': ['National Toxicology Program, Institute of Environmental Health Sciences, National Institutes of Health (NTP). 1992. National Toxicology Program Chemical Repository Database. Research Triangle Park, North Carolina.'], 'Value': {'StringWithMarkup': [{'String': '180 mmHg at 68 °F ; 270 mmHg at 86 °F (NTP, 1992)'}]}}, {'ReferenceNumber': 37, 'Value': {'StringWithMarkup': [{'String': '231.0 [mmHg]'}]}}, {'ReferenceNumber': 39, 'Description': 'PEER REVIEWED', 'Reference': ['PMID:7676461', 'Alarie Y et al; Toxicol Appl Pharmacol 134: 92-99 (1995)'], 'Value': {'StringWithMarkup': [{'String': '231 mm Hg at 25 °C'}]}}, {'ReferenceNumber': 55, 'Value': {'StringWithMarkup': [{'String': 'Vapor pressure, kPa at 20 °C: 24'}]}}, {'ReferenceNumber': 101, 'Value': {'StringWithMarkup': [{'String': '180 mmHg'}]}}, {'ReferenceNumber': 139, 'Value': {'StringWithMarkup': [{'String': '180 mmHg'}]}}]}\n",
      "\n",
      "None\n",
      "<re.Match object; span=(0, 6), match='133 °F'>\n",
      "<re.Match object; span=(0, 8), match='56.08 °C'>\n",
      "None\n",
      "<re.Match object; span=(9, 17), match='57.00 °C'>\n",
      "None\n",
      "<re.Match object; span=(0, 5), match='56 °C'>\n",
      "None\n",
      "None\n",
      "<re.Match object; span=(0, 6), match='133 °F'>\n",
      "None\n",
      "<re.Match object; span=(0, 6), match='133 °F'>\n",
      "[56.11, 56.08, 57.0, 56.0, 56.11, 56.11]\n",
      "56.24\n",
      "None\n"
     ]
    }
   ],
   "source": [
    "import pandas as pd\n",
    "from pubchemprops.pubchemprops import get_cid_by_name, get_first_layer_props, get_second_layer_props\n",
    "import re\n",
    "import json\n",
    "\n",
    "def find_boiling_point(name):\n",
    "    text_dict = get_second_layer_props(str(name), ['Boiling Point', 'Vapor Pressure'])\n",
    "    print(text_dict)\n",
    "    print()\n",
    "    \n",
    "    Boiling_point_values = []\n",
    "    #finds all celsius\n",
    "    pattern_celsius = r'([-+]?\\d*\\.\\d+|\\d+) °C'\n",
    "    pattern_F = r'([-+]?\\d*\\.\\d+|\\d+) °F'\n",
    "    \n",
    "    for item in text_dict['Boiling Point']:\n",
    "        # Check if the item has a key 'Value' and 'StringWithMarkup'\n",
    "        if 'Value' in item and 'StringWithMarkup' in item['Value']:\n",
    "            # Access the 'String' key inside the nested dictionary\n",
    "            string_value = item['Value']['StringWithMarkup'][0]['String']\n",
    "            match_celsius = re.search(pattern_celsius, string_value)\n",
    "            print(match_celsius)\n",
    "            if match_celsius:\n",
    "                celsius = float(match_celsius.group(1))\n",
    "                Boiling_point_values.append(celsius)\n",
    "\n",
    "            #Search for Farenheit values, if found: converts farenheit to celsius before adding to the list\n",
    "            match_F = re.search(pattern_F, string_value)\n",
    "            print(match_F)\n",
    "            if match_F:\n",
    "                fahrenheit_temp = float(match_F.group(1))\n",
    "                celsius_from_F = round(((fahrenheit_temp - 32) * (5/9)), 2)\n",
    "                Boiling_point_values.append(celsius_from_F)\n",
    "\n",
    "    #get the mean value\n",
    "    Boiling_temp = round((sum(Boiling_point_values) / len(Boiling_point_values)), 2)\n",
    "    return Boiling_temp\n",
    "        \n",
    "        \n",
    "    print(Boiling_point_values)\n",
    "    print(Boiling_temp)\n",
    "print(find_boiling_point('acetone'))"
   ]
  },
  {
   "cell_type": "code",
   "execution_count": 10,
   "id": "da7b2a79-9449-4ad5-a2f9-026620a48f7e",
   "metadata": {},
   "outputs": [
    {
     "name": "stdout",
     "output_type": "stream",
     "text": [
      "{'Boiling Point': [{'ReferenceNumber': 1, 'Reference': ['National Toxicology Program, Institute of Environmental Health Sciences, National Institutes of Health (NTP). 1992. National Toxicology Program Chemical Repository Database. Research Triangle Park, North Carolina.'], 'Value': {'StringWithMarkup': [{'String': '148.3 °F at 760 mmHg (NTP, 1992)'}]}}, {'ReferenceNumber': 45, 'Description': 'PEER REVIEWED', 'Reference': [\"O'Neil, M.J. (ed.). The Merck Index - An Encyclopedia of Chemicals, Drugs, and Biologicals. Cambridge, UK:  Royal Society of Chemistry, 2013., p. 1106\"], 'Value': {'StringWithMarkup': [{'String': '64.7 °C at 760 mm Hg'}]}}, {'ReferenceNumber': 46, 'Reference': ['The Good Scents Company Information System'], 'Value': {'StringWithMarkup': [{'String': '64.00 to 65.00 °C. @ 760.00 mm Hg'}]}}, {'ReferenceNumber': 56, 'Value': {'StringWithMarkup': [{'String': '65 °C'}]}}, {'ReferenceNumber': 92, 'Value': {'StringWithMarkup': [{'String': '147 °F'}]}}, {'ReferenceNumber': 127, 'Value': {'StringWithMarkup': [{'String': '147 °F'}]}}]}\n"
     ]
    }
   ],
   "source": [
    "from pubchemprops.pubchemprops import get_cid_by_name, get_second_layer_props\n",
    "\n",
    "name = 'methanol'\n",
    "methanol_values = get_second_layer_props(str(name), ['Boiling Point'])\n",
    "#, 'Vapor Pressure'\n",
    "print(methanol_values)"
   ]
  },
  {
   "cell_type": "code",
   "execution_count": 26,
   "id": "6256cbff-00fb-487b-9111-68ee0d7dc18a",
   "metadata": {},
   "outputs": [
    {
     "name": "stdout",
     "output_type": "stream",
     "text": [
      "{'Boiling Point': [{'ReferenceNumber': 1, 'Value': {'StringWithMarkup': [{'String': '212 °F at 760 mmHg'}]}}, {'ReferenceNumber': 46, 'Reference': ['MSDS'], 'Value': {'Number': [100]}}, {'ReferenceNumber': 69, 'Description': 'PEER REVIEWED', 'Reference': ['Haynes, W.M. (ed.). CRC Handbook of Chemistry and Physics. 94th Edition. CRC Press LLC, Boca Raton: FL 2013-2014, p. 4-98'], 'Value': {'StringWithMarkup': [{'String': '99.974 °C'}]}}], 'Vapor Pressure': [{'ReferenceNumber': 68, 'Value': {'StringWithMarkup': [{'String': '23.75 [mmHg]'}]}}, {'ReferenceNumber': 69, 'Description': 'PEER REVIEWED', 'Reference': [\"Lewis, R.J. Sr. (ed) Sax's Dangerous Properties of Industrial Materials. 11th Edition. Wiley-Interscience, Wiley & Sons, Inc. Hoboken, NJ. 2004., p. V3: 3692\"], 'Value': {'StringWithMarkup': [{'String': 'VP: 760 mm Hg at 100 °C'}]}}, {'ReferenceNumber': 69, 'Description': 'PEER REVIEWED', 'Reference': ['Haynes, W.M. (ed.). CRC Handbook of Chemistry and Physics. 94th Edition. CRC Press LLC, Boca Raton: FL 2013-2014, p. 6-13'], 'Value': {'StringWithMarkup': [{'String': 'VP: 611.657 Pa at 273.16 K'}]}}]}\n"
     ]
    }
   ],
   "source": [
    "from pubchemprops.pubchemprops import get_cid_by_name, get_second_layer_props\n",
    "\n",
    "name = 'water'\n",
    "methanol_values = get_second_layer_props(str(name), ['Boiling Point', 'Vapor Pressure'])\n",
    "print(methanol_values)"
   ]
  },
  {
   "cell_type": "code",
   "execution_count": 14,
   "id": "64c8cc19-1329-4ab6-9e18-d9089afa5d74",
   "metadata": {},
   "outputs": [
    {
     "name": "stdout",
     "output_type": "stream",
     "text": [
      "None\n"
     ]
    },
    {
     "data": {
      "text/plain": [
       "\"\\nif 'pKa' in text_pka:\\n    pKa_value = text_pka['pKa']\\nprint(pKa_value)\\n\""
      ]
     },
     "execution_count": 14,
     "metadata": {},
     "output_type": "execute_result"
    }
   ],
   "source": [
    "from pka_lookup import pka_lookup_pubchem\n",
    "import pubchempy as pcp\n",
    "import re\n",
    "import json\n",
    "\n",
    "cas = \"7732-18-5\"\n",
    "text_pka = pka_lookup_pubchem(cas)\n",
    "#print(text_pka)\n",
    "\n",
    "if 'pKa' in text_pka:\n",
    "    pKa_value = text_pka['pKa']\n",
    "print(pKa_value)"
   ]
  },
  {
   "cell_type": "code",
   "execution_count": null,
   "id": "7263e38d-4763-4086-b8e6-02c285683de3",
   "metadata": {},
   "outputs": [],
   "source": [
    "def find_pka(inchikey_string):\n",
    "    text_pka = pka_lookup_pubchem(inchikey_string, \"inchikey\")\n",
    "    pKa_value = text_pka['pKa']\n",
    "    return pKa_value"
   ]
  },
  {
   "cell_type": "code",
   "execution_count": 6,
   "id": "54b68e4e-b1dc-4c24-bb7c-9e06af9bb20f",
   "metadata": {},
   "outputs": [
    {
     "name": "stdout",
     "output_type": "stream",
     "text": [
      "None\n",
      "<class 'NoneType'>\n",
      "20.0\n",
      "<class 'float'>\n",
      "1.83\n",
      "<class 'float'>\n",
      "4.756\n",
      "<class 'float'>\n"
     ]
    }
   ],
   "source": [
    "import pandas as pd\n",
    "from pubchemprops.pubchemprops import get_cid_by_name, get_first_layer_props, get_second_layer_props\n",
    "import urllib.error\n",
    "import urllib.parse\n",
    "from pka_lookup import pka_lookup_pubchem\n",
    "import pubchempy as pcp\n",
    "import re\n",
    "import json\n",
    "\n",
    "def find_pka(inchikey_string):\n",
    "    text_pka = pka_lookup_pubchem(inchikey_string, \"inchikey\")\n",
    "    if text_pka is not None and 'pKa' in text_pka:\n",
    "        pKa_value = float(text_pka['pKa'])\n",
    "        return pKa_value\n",
    "    else:\n",
    "        return None\n",
    "\"\"\"\n",
    "water = XLYOFNOQVPJJNP-UHFFFAOYSA-N\n",
    "acetone = CSCPPACGZOOCGX-UHFFFAOYSA-N\t\n",
    "maleic_acid = VZCYOOQTPOCHFL-UPHRSURJSA-N\n",
    "Acetic Acid = QTBSBXVTEAMEQO-UHFFFAOYSA-N\n",
    "\"\"\"\n",
    "list = ['XLYOFNOQVPJJNP-UHFFFAOYSA-N', 'CSCPPACGZOOCGX-UHFFFAOYSA-N', 'VZCYOOQTPOCHFL-UPHRSURJSA-N', 'QTBSBXVTEAMEQO-UHFFFAOYSA-N']\n",
    "for compound in list:\n",
    "    print(find_pka(compound))\n",
    "    print(type(find_pka(compound)))"
   ]
  },
  {
   "cell_type": "code",
   "execution_count": 40,
   "id": "4fc0cae7-5a8e-44f4-aa01-80eeed7d43df",
   "metadata": {},
   "outputs": [
    {
     "ename": "SyntaxError",
     "evalue": "unterminated string literal (detected at line 11) (951748959.py, line 11)",
     "output_type": "error",
     "traceback": [
      "\u001b[1;36m  Cell \u001b[1;32mIn[40], line 11\u001b[1;36m\u001b[0m\n\u001b[1;33m    pattern = r''pKa': ''\u001b[0m\n\u001b[1;37m                        ^\u001b[0m\n\u001b[1;31mSyntaxError\u001b[0m\u001b[1;31m:\u001b[0m unterminated string literal (detected at line 11)\n"
     ]
    }
   ],
   "source": [
    "import re\n",
    "from pka_lookup import pka_lookup_pubchem\n",
    "import pubchempy as pcp\n",
    "import re\n",
    "import json\n",
    "\n",
    "#This code tries to find the pka value from the text found by pka_lookup\n",
    "\n",
    "cas = \"67-56-1\"\n",
    "text_pka = pka_lookup_pubchem(cas)\n",
    "pattern = r''pKa': ''\n",
    "\n",
    "for text in text_pka:\n",
    "    match = re.search(pattern, text)\n",
    "\n",
    "    if match:\n",
    "        for value in match.groups():\n",
    "            if value is not None:\n",
    "                float_value = float(value)\n",
    "                print(\"Float value:\", float_value)\n",
    "                break  # Break the loop once the value is found\n",
    "    else:\n",
    "        print(\"Pattern not found.\")"
   ]
  },
  {
   "cell_type": "code",
   "execution_count": null,
   "id": "f227b9a2-16e7-4983-b072-fe6968296770",
   "metadata": {},
   "outputs": [],
   "source": [
    "{'Boiling Point': [{'ReferenceNumber': 2, 'Reference': ['National'], 'Value': {'StringWithMarkup': [{'String': '133 °F at 760 mmHg (NTP, 1992)'}]}}, {'ReferenceNumber': 39, 'Description': 'PEER REVIEWED', 'Reference': ['Haynes, W.M. (ed.). CRC Handbook of Chemistry and Physics. 95th Edition. CRC Press LLC, Boca Raton: FL 2014-2015, p. 3-4'], 'Value': {'StringWithMarkup': [{'String': '56.08 °C'}]}}, {'ReferenceNumber': 40, 'Reference': ['The Good Scents Company Information System'], 'Value': {'StringWithMarkup': [{'String': '56.00 to 57.00 °C. @ 760.00 mm Hg'}]}}, {'ReferenceNumber': 55, 'Value': {'StringWithMarkup': [{'String': '56 °C'}]}}, {'ReferenceNumber': 101, 'Value': {'StringWithMarkup': [{'String': '133 °F'}]}}, {'ReferenceNumber': 139, 'Value': {'StringWithMarkup': [{'String': '133 °F'}]}}], 'Vapor Pressure': [{'ReferenceNumber': 2, 'Reference': ['National Toxicology Program, Institute of Environmental Health Sciences, National Institutes of Health (NTP). 1992. National Toxicology Program Chemical Repository Database. Research Triangle Park, North Carolina.'], 'Value': {'StringWithMarkup': [{'String': '180 mmHg at 68 °F ; 270 mmHg at 86 °F (NTP, 1992)'}]}}, {'ReferenceNumber': 37, 'Value': {'StringWithMarkup': [{'String': '231.0 [mmHg]'}]}}, {'ReferenceNumber': 39, 'Description': 'PEER REVIEWED', 'Reference': ['PMID:7676461', 'Alarie Y et al; Toxicol Appl Pharmacol 134: 92-99 (1995)'], 'Value': {'StringWithMarkup': [{'String': '231 mm Hg at 25 °C'}]}}, {'ReferenceNumber': 55, 'Value': {'StringWithMarkup': [{'String': 'Vapor pressure, kPa at 20 °C: 24'}]}}, {'ReferenceNumber': 101, 'Value': {'StringWithMarkup': [{'String': '180 mmHg'}]}}, {'ReferenceNumber': 139, 'Value': {'StringWithMarkup': [{'String': '180 mmHg'}]}}]}"
   ]
  }
 ],
 "metadata": {
  "kernelspec": {
   "display_name": "Python 3 (ipykernel)",
   "language": "python",
   "name": "python3"
  },
  "language_info": {
   "codemirror_mode": {
    "name": "ipython",
    "version": 3
   },
   "file_extension": ".py",
   "mimetype": "text/x-python",
   "name": "python",
   "nbconvert_exporter": "python",
   "pygments_lexer": "ipython3",
   "version": "3.10.13"
  }
 },
 "nbformat": 4,
 "nbformat_minor": 5
}
